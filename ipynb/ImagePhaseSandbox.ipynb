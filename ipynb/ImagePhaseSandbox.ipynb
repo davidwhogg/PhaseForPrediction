{
 "cells": [
  {
   "cell_type": "code",
   "execution_count": null,
   "metadata": {
    "collapsed": true
   },
   "outputs": [],
   "source": [
    "import astropy.coordinates as coord\n",
    "import astropy.units as u\n",
    "import matplotlib as mpl\n",
    "import matplotlib.pyplot as plt\n",
    "%matplotlib inline\n",
    "import numpy as np\n",
    "\n",
    "# from scipy.fftpack import rfft as fft, irfft as ifft\n",
    "from scipy.fftpack import fft2 as fft, ifft2 as ifft\n",
    "from PIL import Image as pil"
   ]
  },
  {
   "cell_type": "code",
   "execution_count": null,
   "metadata": {
    "collapsed": true
   },
   "outputs": [],
   "source": [
    "# import cv2\n",
    "# vidcap = cv2.VideoCapture('/Users/apricewhelan/Downloads/48728220883_b87ea8cf30_vm.mp4')\n",
    "# success, image = vidcap.read()\n",
    "# count = 0\n",
    "# while success:\n",
    "#     if count == 0 or count == 31:\n",
    "#         cv2.imwrite(\"frame%d.jpg\" % count, image)     # save frame as JPEG file      \n",
    "#     success, image = vidcap.read()\n",
    "#     count += 1"
   ]
  },
  {
   "cell_type": "code",
   "execution_count": null,
   "metadata": {
    "collapsed": false
   },
   "outputs": [],
   "source": [
    "# read in the two images\n",
    "rgbs = []\n",
    "for filename in ['frame0.jpg', 'frame30.jpg']:\n",
    "    im = pil.open(filename)\n",
    "    rgb = np.array(im).astype(np.float64)\n",
    "    rgbs.append(rgb)\n",
    "rgbs[0].shape"
   ]
  },
  {
   "cell_type": "code",
   "execution_count": null,
   "metadata": {
    "collapsed": false
   },
   "outputs": [],
   "source": [
    "# take a tiny subsection for testing locality of this. Or not!\n",
    "rgbs = [rgb[900:1028,1200:1328] for rgb in rgbs]\n",
    "rgbs[0].shape"
   ]
  },
  {
   "cell_type": "code",
   "execution_count": null,
   "metadata": {
    "collapsed": false
   },
   "outputs": [],
   "source": [
    "# show me the images\n",
    "for rgb in rgbs:\n",
    "    fig, ax = plt.subplots(figsize=(10, 10))\n",
    "    ax.imshow(rgb[..., 0], cmap='Greys')\n",
    "    ax.set_aspect('equal')"
   ]
  },
  {
   "cell_type": "code",
   "execution_count": null,
   "metadata": {
    "collapsed": true
   },
   "outputs": [],
   "source": [
    "# get the FFTs\n",
    "all_ffts = []\n",
    "for rgb in rgbs:\n",
    "    for band in range(3):\n",
    "        all_ffts.append(fft(rgb[..., band]))\n",
    "    \n",
    "#     fig, ax = plt.subplots(figsize=(6, 6))\n",
    "#     ax.imshow(ifft(fft(rgb)), cmap='Greys')\n",
    "#     ax.set_aspect('equal')"
   ]
  },
  {
   "cell_type": "code",
   "execution_count": null,
   "metadata": {
    "collapsed": true
   },
   "outputs": [],
   "source": [
    "def get_ims_at_new_times_stupidly(data1, data2, times, write=False):\n",
    "    # implicitly time=0 is data1, time=1 is data2\n",
    "    # data1 and data2 are ffts of the images at t=0 and t=1\n",
    "    img1 = ifft(data1).real\n",
    "    img2 = ifft(data2).real\n",
    "    \n",
    "    ims = []\n",
    "    for j, time in enumerate(times):\n",
    "        newimg = img1 + (img2 - img1) * time\n",
    "        ims.append(newimg)\n",
    "        if write:\n",
    "            fig, ax = plt.subplots(figsize=(10, 8))\n",
    "            ax.imshow(ims[-1], cmap='Greys')\n",
    "            ax.set_aspect('equal')\n",
    "            ax.xaxis.set_visible(False)\n",
    "            ax.yaxis.set_visible(False)\n",
    "            fig.tight_layout()\n",
    "            fig.savefig('scratch/sn_frame_stupid{:03d}.png'.format(j), \n",
    "                        dpi=150)\n",
    "            plt.close(fig)\n",
    "    return ims"
   ]
  },
  {
   "cell_type": "code",
   "execution_count": null,
   "metadata": {
    "collapsed": false
   },
   "outputs": [],
   "source": [
    "def get_ims_at_new_times(data1, data2, times, write=False):\n",
    "    # implicitly time=0 is data1, time=1 is data2\n",
    "    # data1 and data2 are ffts of the images at t=0 and t=1\n",
    "\n",
    "    # make unit vectors\n",
    "    f1 = np.stack((data1.real, data1.imag), axis=0)\n",
    "    f2 = np.stack((data2.real, data2.imag), axis=0)\n",
    "    amps1 = np.abs(data1)\n",
    "    amps2 = np.abs(data2)\n",
    "    ufs1 = f1 / amps1[None]\n",
    "    ufs2 = f2 / amps2[None]\n",
    "    \n",
    "    # make angles\n",
    "    cosdthetas = np.sum(ufs1 * ufs2, axis=0)\n",
    "    sindthetas = np.cross(ufs1, ufs2, axis=0)\n",
    "    thetas1 = np.arctan2(data1.imag, data1.real)\n",
    "    thetas2 = np.arctan2(data2.imag, data2.real)\n",
    "    dthetas = np.arctan2(sindthetas, cosdthetas)\n",
    "    \n",
    "    ims = []\n",
    "    for j, time in enumerate(times):\n",
    "        if time < 0:\n",
    "            newamps = amps1\n",
    "        elif time > 1:\n",
    "            newamps = amps2\n",
    "        else:\n",
    "            newamps = amps1 + (amps2 - amps1) * time\n",
    "        newthetas = thetas1 + dthetas * time\n",
    "        newdata = newamps * np.exp(1j * newthetas)\n",
    "        ims.append(ifft(newdata).real)\n",
    "        if write:\n",
    "            fig, ax = plt.subplots(figsize=(10, 8))\n",
    "            ax.imshow(ims[-1], cmap='Greys')\n",
    "            ax.set_aspect('equal')\n",
    "            ax.xaxis.set_visible(False)\n",
    "            ax.yaxis.set_visible(False)\n",
    "            fig.tight_layout()\n",
    "            fig.savefig('scratch/sn_frame{:03d}.png'.format(j), \n",
    "                        dpi=150)\n",
    "            plt.close(fig)\n",
    "    \n",
    "    return ims"
   ]
  },
  {
   "cell_type": "code",
   "execution_count": null,
   "metadata": {
    "collapsed": false
   },
   "outputs": [],
   "source": [
    "times = np.arange(-2., 3.001, 0.25)\n",
    "Rims = get_ims_at_new_times(all_ffts[0], all_ffts[3], times, write=True)\n",
    "# Gims = get_ims_at_new_times(all_ffts[1], all_ffts[4], times)\n",
    "# Bims = get_ims_at_new_times(all_ffts[2], all_ffts[5], times)\n",
    "len(Rims)"
   ]
  },
  {
   "cell_type": "code",
   "execution_count": null,
   "metadata": {
    "collapsed": false
   },
   "outputs": [],
   "source": [
    "Rims_s = get_ims_at_new_times_stupidly(all_ffts[0], all_ffts[3], times, write=True)\n",
    "# Gims_s = get_ims_at_new_times_stupidly(all_ffts[1], all_ffts[4], times)\n",
    "# Bims_s = get_ims_at_new_times_stupidly(all_ffts[2], all_ffts[5], times)\n",
    "len(Rims_s)"
   ]
  },
  {
   "cell_type": "code",
   "execution_count": null,
   "metadata": {
    "collapsed": true
   },
   "outputs": [],
   "source": []
  }
 ],
 "metadata": {
  "gist": {
   "data": {
    "description": "ImagePhaseSandbox.ipynb",
    "public": true
   },
   "id": ""
  },
  "kernelspec": {
   "display_name": "Python 3",
   "language": "python",
   "name": "python3"
  },
  "language_info": {
   "codemirror_mode": {
    "name": "ipython",
    "version": 3
   },
   "file_extension": ".py",
   "mimetype": "text/x-python",
   "name": "python",
   "nbconvert_exporter": "python",
   "pygments_lexer": "ipython3",
   "version": "3.6.0"
  }
 },
 "nbformat": 4,
 "nbformat_minor": 2
}
