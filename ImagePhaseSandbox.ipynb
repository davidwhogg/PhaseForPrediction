{
 "cells": [
  {
   "cell_type": "code",
   "execution_count": null,
   "metadata": {
    "collapsed": true
   },
   "outputs": [],
   "source": [
    "import astropy.coordinates as coord\n",
    "import astropy.units as u\n",
    "import matplotlib as mpl\n",
    "import matplotlib.pyplot as plt\n",
    "%matplotlib inline\n",
    "import numpy as np\n",
    "\n",
    "FILEPATH = \"/Users/dhogg/ImagePhaseSandbox/ipynb\"\n",
    "\n",
    "# from scipy.fftpack import rfft as fft, irfft as ifft\n",
    "from scipy.fftpack import fft2 as fft, ifft2 as ifft\n",
    "from PIL import Image as pil"
   ]
  },
  {
   "cell_type": "code",
   "execution_count": null,
   "metadata": {
    "collapsed": true
   },
   "outputs": [],
   "source": [
    "# import cv2\n",
    "# vidcap = cv2.VideoCapture('/Users/apricewhelan/Downloads/48728220883_b87ea8cf30_vm.mp4')\n",
    "# success, image = vidcap.read()\n",
    "# count = 0\n",
    "# while success:\n",
    "#     if count == 0 or count == 31:\n",
    "#         cv2.imwrite(\"frame%d.jpg\" % count, image)     # save frame as JPEG file      \n",
    "#     success, image = vidcap.read()\n",
    "#     count += 1"
   ]
  },
  {
   "cell_type": "code",
   "execution_count": null,
   "metadata": {
    "collapsed": true
   },
   "outputs": [],
   "source": [
    "rgbs = []\n",
    "for filename in ['frame0.jpg', 'frame30.jpg']:\n",
    "    im = pil.open(filename)\n",
    "    rgb = np.array(im).astype(np.float64)\n",
    "    rgbs.append(rgb)"
   ]
  },
  {
   "cell_type": "code",
   "execution_count": null,
   "metadata": {
    "collapsed": true
   },
   "outputs": [],
   "source": [
    "# for rgb in rgbs:\n",
    "#     fig, ax = plt.subplots(figsize=(10, 10))\n",
    "#     ax.imshow(rgb[..., 0], cmap='Greys')\n",
    "#     ax.set_aspect('equal')"
   ]
  },
  {
   "cell_type": "code",
   "execution_count": null,
   "metadata": {
    "collapsed": true
   },
   "outputs": [],
   "source": [
    "all_ffts = []\n",
    "for rgb in rgbs:\n",
    "    for band in range(3):\n",
    "        all_ffts.append(fft(rgb[..., band]))\n",
    "    \n",
    "#     fig, ax = plt.subplots(figsize=(6, 6))\n",
    "#     ax.imshow(ifft(fft(rgb)), cmap='Greys')\n",
    "#     ax.set_aspect('equal')"
   ]
  },
  {
   "cell_type": "code",
   "execution_count": null,
   "metadata": {
    "collapsed": true
   },
   "outputs": [],
   "source": [
    "def get_ims_at_new_times_stupidly(data1, data2, times, write=False):\n",
    "    # implicitly time=0 is data1, time=1 is data2\n",
    "    # data1 and data2 are ffts of the images at t=0 and t=1\n",
    "    img1 = ifft(data1).real\n",
    "    img2 = ifft(data2).real\n",
    "    \n",
    "    ims = []\n",
    "    for j, time in enumerate(times):\n",
    "        newimg = img1 + (img2 - img1) * time\n",
    "        ims.append(newimg)\n",
    "        if write:\n",
    "            fig, ax = plt.subplots(figsize=(10, 8))\n",
    "            ax.imshow(ims[-1], cmap='Greys')\n",
    "            ax.set_aspect('equal')\n",
    "            ax.xaxis.set_visible(False)\n",
    "            ax.yaxis.set_visible(False)\n",
    "            fig.tight_layout()\n",
    "            fig.savefig(FILEPATH + '/scratch/sn_frame_stupid{:03d}.png'.format(j), \n",
    "                        dpi=150)\n",
    "            plt.close(fig)\n",
    "    return ims"
   ]
  },
  {
   "cell_type": "code",
   "execution_count": null,
   "metadata": {
    "collapsed": false
   },
   "outputs": [],
   "source": [
    "def get_ims_at_new_times(data1, data2, times, write=False):\n",
    "    # implicitly time=0 is data1, time=1 is data2\n",
    "    # data1 and data2 are ffts of the images at t=0 and t=1\n",
    "\n",
    "    # make unit vectors\n",
    "    f1 = np.stack((data1.real, data1.imag), axis=0)\n",
    "    f2 = np.stack((data2.real, data2.imag), axis=0)\n",
    "    amps1 = np.abs(data1)\n",
    "    amps2 = np.abs(data2)\n",
    "    ufs1 = f1 / amps1[None]\n",
    "    ufs2 = f2 / amps2[None]\n",
    "    \n",
    "    # make angles\n",
    "    cosdthetas = np.sum(ufs1 * ufs2, axis=0)\n",
    "    sindthetas = np.cross(ufs1, ufs2, axis=0)\n",
    "    thetas1 = np.arctan2(data1.imag, data1.real)\n",
    "    thetas2 = np.arctan2(data2.imag, data2.real)\n",
    "    dthetas = np.arctan2(sindthetas, cosdthetas)\n",
    "    \n",
    "    ims = []\n",
    "    for j, time in enumerate(times):\n",
    "        if time < 0:\n",
    "            newamps = amps1\n",
    "        elif time > 1:\n",
    "            newamps = amps2\n",
    "        else:\n",
    "            newamps = amps1 + (amps2 - amps1) * time\n",
    "        newthetas = thetas1 + dthetas * time\n",
    "        newdata = newamps * np.exp(1j * newthetas)\n",
    "        ims.append(ifft(newdata).real)\n",
    "        if write:\n",
    "            fig, ax = plt.subplots(figsize=(10, 8))\n",
    "            ax.imshow(ims[-1], cmap='Greys')\n",
    "            ax.set_aspect('equal')\n",
    "            ax.xaxis.set_visible(False)\n",
    "            ax.yaxis.set_visible(False)\n",
    "            fig.tight_layout()\n",
    "            fig.savefig(FILEPATH + '/scratch/sn_frame{:03d}.png'.format(j), \n",
    "                        dpi=150)\n",
    "            plt.close(fig)\n",
    "    \n",
    "    return ims"
   ]
  },
  {
   "cell_type": "code",
   "execution_count": null,
   "metadata": {
    "collapsed": false
   },
   "outputs": [],
   "source": [
    "times = np.arange(-1., 2.001, 0.25)\n",
    "Rims = get_ims_at_new_times(all_ffts[0], all_ffts[3], times, write=True)\n",
    "# Gims = get_ims_at_new_times(all_ffts[1], all_ffts[4], times)\n",
    "# Bims = get_ims_at_new_times(all_ffts[2], all_ffts[5], times)"
   ]
  },
  {
   "cell_type": "code",
   "execution_count": null,
   "metadata": {
    "collapsed": false
   },
   "outputs": [],
   "source": [
    "Rims_s = get_ims_at_new_times_stupidly(all_ffts[0], all_ffts[3], times, write=True)\n",
    "# Gims_s = get_ims_at_new_times_stupidly(all_ffts[1], all_ffts[4], times)\n",
    "# Bims_s = get_ims_at_new_times_stupidly(all_ffts[2], all_ffts[5], times)"
   ]
  },
  {
   "cell_type": "code",
   "execution_count": null,
   "metadata": {
    "collapsed": false
   },
   "outputs": [],
   "source": [
    "len(Rims)"
   ]
  },
  {
   "cell_type": "code",
   "execution_count": null,
   "metadata": {
    "collapsed": false
   },
   "outputs": [],
   "source": [
    "plt.figure(figsize=(10, 10))\n",
    "plt.imshow(ims[40], cmap='Greys')"
   ]
  },
  {
   "cell_type": "code",
   "execution_count": null,
   "metadata": {
    "collapsed": true
   },
   "outputs": [],
   "source": [
    "def get_ims(data1, data2, nslice, save_dont_return=False):\n",
    "    f1 = np.stack((data1.real, data1.imag), axis=0)\n",
    "    f2 = np.stack((data2.real, data2.imag), axis=0)\n",
    "    \n",
    "    amp1 = np.abs(data1)\n",
    "    amp2 = np.abs(data2)\n",
    "    \n",
    "    uf1 = f1 / amp1[None]\n",
    "    uf2 = f2 / amp2[None]\n",
    "\n",
    "    cross = np.cross(uf1, uf2, axis=0)\n",
    "    theta2 = np.arcsin(cross)\n",
    "    thetas = [np.linspace(0, theta2, nslice)[1] - 0.\n",
    "    dtheta = thetas[1] - thetas[0]\n",
    "    \n",
    "    frames = np.concatenate((np.arange(-4*nslice, 0), \n",
    "                             np.arange(0, nslice),\n",
    "                             np.arange(nslice, nslice + 4*nslice)))\n",
    "    \n",
    "    ims = [] \n",
    "    for j, i in enumerate(frames):\n",
    "        theta = dtheta * i\n",
    "        if i < 0:\n",
    "            fac = amp1\n",
    "        elif i > nslice:\n",
    "            fac = amp2\n",
    "        else:\n",
    "            fac = (amp2 - amp1) / nslice * i + amp1\n",
    "        \n",
    "        R = np.array([[np.cos(theta), np.sin(theta)],\n",
    "                      [-np.sin(theta), np.cos(theta)]])\n",
    "        rot_f1 = np.einsum('ijnm,inm->jnm', R, uf1)\n",
    "            \n",
    "        rot_f1 *= fac\n",
    "        rot_f1 = rot_f1[0] + 1j*rot_f1[1]\n",
    "        rot_f1 = ifft(rot_f1).real\n",
    "        \n",
    "        if save_dont_return:\n",
    "            fig, ax = plt.subplots(figsize=(10, 8))\n",
    "            ax.imshow(rot_f1.real, cmap='Greys')\n",
    "            ax.set_aspect('equal')\n",
    "            ax.xaxis.set_visible(False)\n",
    "            ax.yaxis.set_visible(False)\n",
    "            fig.tight_layout()\n",
    "            fig.savefig(FILEPATH + '/scratch/supernova-phase-bump/sn_frame_{j:03d}.png', \n",
    "                        dpi=150)\n",
    "            plt.close(fig)\n",
    "            \n",
    "        else:\n",
    "            ims.append(rot_f1)\n",
    "    \n",
    "    if not save_dont_return:\n",
    "        return np.array(ims)"
   ]
  },
  {
   "cell_type": "code",
   "execution_count": null,
   "metadata": {
    "collapsed": false
   },
   "outputs": [],
   "source": [
    "import glob, os\n",
    "for filename in glob.glob(FILEPATH + '/scratch/supernova-phase-bump/*'):\n",
    "    num = int(filename.split('.')[0].split('_')[-1])\n",
    "    new_filename = FILEPATH + '/scratch/supernova-phase-bump/sn_frame_{:03d}.png'.format(num)\n",
    "    os.system('mv {} {}'.format(filename, new_filename))"
   ]
  },
  {
   "cell_type": "code",
   "execution_count": null,
   "metadata": {
    "collapsed": false
   },
   "outputs": [],
   "source": [
    "nslice = 16\n",
    "ims = get_ims(all_ffts[0], all_ffts[3], nslice, save_dont_return=True)"
   ]
  },
  {
   "cell_type": "code",
   "execution_count": null,
   "metadata": {
    "collapsed": true,
    "scrolled": false
   },
   "outputs": [],
   "source": [
    "# for im in [ims[0], ims[nslice], ims[nslice+nslice], ims[-1]]:\n",
    "#     fig, ax = plt.subplots(figsize=(10, 8))\n",
    "#     ax.imshow(im.real, cmap='Greys')\n",
    "#     ax.set_aspect('equal')\n",
    "#     ax.xaxis.set_visible(False)\n",
    "#     ax.yaxis.set_visible(False)\n",
    "#     fig.tight_layout()"
   ]
  },
  {
   "cell_type": "code",
   "execution_count": null,
   "metadata": {
    "collapsed": true
   },
   "outputs": [],
   "source": []
  },
  {
   "cell_type": "code",
   "execution_count": null,
   "metadata": {
    "collapsed": true
   },
   "outputs": [],
   "source": []
  },
  {
   "cell_type": "code",
   "execution_count": null,
   "metadata": {
    "collapsed": true
   },
   "outputs": [],
   "source": []
  },
  {
   "cell_type": "code",
   "execution_count": null,
   "metadata": {
    "collapsed": false
   },
   "outputs": [],
   "source": [
    "# max_theta = np.arcsin(cross[2])\n",
    "\n",
    "R = np.array([[np.cos(theta), -np.sin(theta)],\n",
    "                  [np.sin(theta), np.cos(theta)]])\n",
    "R.shape"
   ]
  },
  {
   "cell_type": "code",
   "execution_count": null,
   "metadata": {
    "collapsed": false
   },
   "outputs": [],
   "source": [
    "plt.figure(figsize=(10, 10))\n",
    "plt.imshow(ifft(amp1 * np.exp(1j * phase2)).real - rgbs[0][..., 0], cmap='Greys')\n",
    "# plt.colorbar()"
   ]
  },
  {
   "cell_type": "code",
   "execution_count": null,
   "metadata": {
    "collapsed": false
   },
   "outputs": [],
   "source": [
    "plt.figure(figsize=(10, 10))\n",
    "plt.imshow(ifft(amp2 * np.exp(1j * phase1)).real, cmap='Greys')"
   ]
  },
  {
   "cell_type": "code",
   "execution_count": null,
   "metadata": {
    "collapsed": true
   },
   "outputs": [],
   "source": []
  },
  {
   "cell_type": "code",
   "execution_count": null,
   "metadata": {
    "collapsed": true
   },
   "outputs": [],
   "source": []
  },
  {
   "cell_type": "code",
   "execution_count": null,
   "metadata": {
    "collapsed": true
   },
   "outputs": [],
   "source": []
  },
  {
   "cell_type": "code",
   "execution_count": null,
   "metadata": {
    "collapsed": true
   },
   "outputs": [],
   "source": [
    "fft(x, n=None, axis=-1, overwrite_x=0)¶\n"
   ]
  },
  {
   "cell_type": "code",
   "execution_count": null,
   "metadata": {
    "collapsed": true
   },
   "outputs": [],
   "source": [
    "(x, shape=None, axes=(-2, -1), overwrite_x=False)[source]¶"
   ]
  },
  {
   "cell_type": "code",
   "execution_count": null,
   "metadata": {
    "collapsed": true
   },
   "outputs": [],
   "source": []
  }
 ],
 "metadata": {
  "gist": {
   "data": {
    "description": "ImagePhaseSandbox.ipynb",
    "public": true
   },
   "id": ""
  },
  "kernelspec": {
   "display_name": "Python 3",
   "language": "python",
   "name": "python3"
  },
  "language_info": {
   "codemirror_mode": {
    "name": "ipython",
    "version": 3
   },
   "file_extension": ".py",
   "mimetype": "text/x-python",
   "name": "python",
   "nbconvert_exporter": "python",
   "pygments_lexer": "ipython3",
   "version": "3.6.0"
  }
 },
 "nbformat": 4,
 "nbformat_minor": 2
}
